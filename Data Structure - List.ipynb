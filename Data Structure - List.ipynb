{
 "cells": [
  {
   "cell_type": "code",
   "execution_count": null,
   "id": "09737a70",
   "metadata": {},
   "outputs": [],
   "source": [
    "Interger\n",
    "Float\n",
    "String\n",
    "Combinational\n",
    "Lists---> Nested List"
   ]
  },
  {
   "cell_type": "code",
   "execution_count": 1,
   "id": "821b0044",
   "metadata": {},
   "outputs": [
    {
     "data": {
      "text/plain": [
       "list"
      ]
     },
     "execution_count": 1,
     "metadata": {},
     "output_type": "execute_result"
    }
   ],
   "source": [
    "cust_info = [\"Soumavo\", 30, \"India\", 10000, 500, \"2GB\"]\n",
    "type(cust_info)"
   ]
  },
  {
   "cell_type": "code",
   "execution_count": 2,
   "id": "6386fb4a",
   "metadata": {},
   "outputs": [
    {
     "data": {
      "text/plain": [
       "tuple"
      ]
     },
     "execution_count": 2,
     "metadata": {},
     "output_type": "execute_result"
    }
   ],
   "source": [
    "cust_info_1 = (\"Soumavo\", 30, \"India\", 10000, 500, \"2GB\", 28)\n",
    "type(cust_info_1)"
   ]
  },
  {
   "cell_type": "code",
   "execution_count": 6,
   "id": "419b4d93",
   "metadata": {},
   "outputs": [
    {
     "data": {
      "text/plain": [
       "6"
      ]
     },
     "execution_count": 6,
     "metadata": {},
     "output_type": "execute_result"
    }
   ],
   "source": [
    "len(cust_info)"
   ]
  },
  {
   "cell_type": "code",
   "execution_count": 7,
   "id": "caa59d02",
   "metadata": {},
   "outputs": [
    {
     "data": {
      "text/plain": [
       "7"
      ]
     },
     "execution_count": 7,
     "metadata": {},
     "output_type": "execute_result"
    }
   ],
   "source": [
    "len(cust_info_1)"
   ]
  },
  {
   "cell_type": "code",
   "execution_count": 8,
   "id": "49b10ff9",
   "metadata": {},
   "outputs": [
    {
     "data": {
      "text/plain": [
       "8"
      ]
     },
     "execution_count": 8,
     "metadata": {},
     "output_type": "execute_result"
    }
   ],
   "source": [
    "# Nested list: List within a list\n",
    "\n",
    "list1 = [\"Soumavo\", 30, \"Kolkata\", 10000, 500, \"2GB\", 'East Bengal', ['Brazil', 'MANUnited']]\n",
    "len(list1)"
   ]
  },
  {
   "cell_type": "code",
   "execution_count": 9,
   "id": "cb3ade46",
   "metadata": {},
   "outputs": [
    {
     "data": {
      "text/plain": [
       "30"
      ]
     },
     "execution_count": 9,
     "metadata": {},
     "output_type": "execute_result"
    }
   ],
   "source": [
    "list1[1] # Also known as Indexing"
   ]
  },
  {
   "cell_type": "code",
   "execution_count": 10,
   "id": "ec1a5d93",
   "metadata": {},
   "outputs": [
    {
     "data": {
      "text/plain": [
       "int"
      ]
     },
     "execution_count": 10,
     "metadata": {},
     "output_type": "execute_result"
    }
   ],
   "source": [
    "type(list1[1]) # 30"
   ]
  },
  {
   "cell_type": "code",
   "execution_count": 11,
   "id": "6a21f5b7",
   "metadata": {},
   "outputs": [
    {
     "data": {
      "text/plain": [
       "str"
      ]
     },
     "execution_count": 11,
     "metadata": {},
     "output_type": "execute_result"
    }
   ],
   "source": [
    "type(list1[0]) # \"Soumavo\""
   ]
  },
  {
   "cell_type": "code",
   "execution_count": 12,
   "id": "b065d754",
   "metadata": {},
   "outputs": [
    {
     "data": {
      "text/plain": [
       "'MANUnited'"
      ]
     },
     "execution_count": 12,
     "metadata": {},
     "output_type": "execute_result"
    }
   ],
   "source": [
    "list1 [7][1] # list1 [7][-1] # Also known as Slicing"
   ]
  },
  {
   "cell_type": "code",
   "execution_count": 13,
   "id": "b25b211a",
   "metadata": {},
   "outputs": [
    {
     "data": {
      "text/plain": [
       "'Brazil'"
      ]
     },
     "execution_count": 13,
     "metadata": {},
     "output_type": "execute_result"
    }
   ],
   "source": [
    "list1 [7][0]  # list1 [7][-2] # Also known as Slicing"
   ]
  },
  {
   "cell_type": "markdown",
   "id": "3907723c",
   "metadata": {},
   "source": [
    "# List concat"
   ]
  },
  {
   "cell_type": "code",
   "execution_count": 14,
   "id": "b1a47317",
   "metadata": {},
   "outputs": [],
   "source": [
    "list1 = [\"Soumavo\", 30, \"India\", 10000, 500, \"2GB\", 'East Bengal', ['Brazil', 'MANUnited']]\n",
    "list2= [\"Swarnali\", 27, \"UP\", 20000, 350, \"1GB\", ['UP','Barca']] "
   ]
  },
  {
   "cell_type": "code",
   "execution_count": 15,
   "id": "6d83ef9d",
   "metadata": {},
   "outputs": [],
   "source": [
    "list3 = list1 + list2"
   ]
  },
  {
   "cell_type": "code",
   "execution_count": 16,
   "id": "16ca20df",
   "metadata": {},
   "outputs": [
    {
     "data": {
      "text/plain": [
       "15"
      ]
     },
     "execution_count": 16,
     "metadata": {},
     "output_type": "execute_result"
    }
   ],
   "source": [
    "len(list3)"
   ]
  },
  {
   "cell_type": "code",
   "execution_count": 17,
   "id": "73d85043",
   "metadata": {},
   "outputs": [
    {
     "data": {
      "text/plain": [
       "['Soumavo',\n",
       " 30,\n",
       " 'India',\n",
       " 10000,\n",
       " 500,\n",
       " '2GB',\n",
       " 'East Bengal',\n",
       " ['Brazil', 'MANUnited'],\n",
       " 'Swarnali',\n",
       " 27,\n",
       " 'UP',\n",
       " 20000,\n",
       " 350,\n",
       " '1GB',\n",
       " ['UP', 'Barca']]"
      ]
     },
     "execution_count": 17,
     "metadata": {},
     "output_type": "execute_result"
    }
   ],
   "source": [
    "list3"
   ]
  },
  {
   "cell_type": "code",
   "execution_count": 18,
   "id": "ee6194b1",
   "metadata": {},
   "outputs": [
    {
     "data": {
      "text/plain": [
       "'UP'"
      ]
     },
     "execution_count": 18,
     "metadata": {},
     "output_type": "execute_result"
    }
   ],
   "source": [
    "list3[14][0]"
   ]
  },
  {
   "cell_type": "code",
   "execution_count": 19,
   "id": "dcbaeb1f",
   "metadata": {},
   "outputs": [
    {
     "data": {
      "text/plain": [
       "'Barca'"
      ]
     },
     "execution_count": 19,
     "metadata": {},
     "output_type": "execute_result"
    }
   ],
   "source": [
    "list3[-1][-1]"
   ]
  },
  {
   "cell_type": "code",
   "execution_count": 20,
   "id": "83bc46e0",
   "metadata": {},
   "outputs": [],
   "source": [
    "list3 = [1,2,3,4]\n",
    "list4 = [5,6,7,4]"
   ]
  },
  {
   "cell_type": "code",
   "execution_count": 21,
   "id": "73d80af6",
   "metadata": {},
   "outputs": [
    {
     "data": {
      "text/plain": [
       "[1, 2, 3, 4, 5, 6, 7, 4]"
      ]
     },
     "execution_count": 21,
     "metadata": {},
     "output_type": "execute_result"
    }
   ],
   "source": [
    "list5 = list3 + list4\n",
    "list5"
   ]
  },
  {
   "cell_type": "code",
   "execution_count": 22,
   "id": "a5a559d4",
   "metadata": {},
   "outputs": [
    {
     "name": "stdout",
     "output_type": "stream",
     "text": [
      "True\n",
      "False\n"
     ]
    }
   ],
   "source": [
    "# membership in list - whether that mentioned element is presnt or not\n",
    "\n",
    "list6 = [1,2,3,4]\n",
    "print(1 in list6)\n",
    "print(6 in list6)"
   ]
  },
  {
   "cell_type": "markdown",
   "id": "07d9909c",
   "metadata": {},
   "source": [
    "# Mutability"
   ]
  },
  {
   "cell_type": "code",
   "execution_count": 23,
   "id": "d39c83e7",
   "metadata": {},
   "outputs": [
    {
     "data": {
      "text/plain": [
       "['beng', 'eng', 'math', 'bio']"
      ]
     },
     "execution_count": 23,
     "metadata": {},
     "output_type": "execute_result"
    }
   ],
   "source": [
    "list_sub1 = ['beng', 'eng', 'math', 'bio']\n",
    "list_sub1"
   ]
  },
  {
   "cell_type": "code",
   "execution_count": 24,
   "id": "63e8ae59",
   "metadata": {},
   "outputs": [
    {
     "data": {
      "text/plain": [
       "'bio'"
      ]
     },
     "execution_count": 24,
     "metadata": {},
     "output_type": "execute_result"
    }
   ],
   "source": [
    "list_sub1[-1]"
   ]
  },
  {
   "cell_type": "code",
   "execution_count": 25,
   "id": "c641c3a4",
   "metadata": {},
   "outputs": [],
   "source": [
    "list_sub1[-1] = 'phy'"
   ]
  },
  {
   "cell_type": "code",
   "execution_count": 26,
   "id": "dc606fa6",
   "metadata": {},
   "outputs": [
    {
     "data": {
      "text/plain": [
       "['beng', 'eng', 'math', 'phy']"
      ]
     },
     "execution_count": 26,
     "metadata": {},
     "output_type": "execute_result"
    }
   ],
   "source": [
    "list_sub1 #'bio' replaced by 'phy'"
   ]
  },
  {
   "cell_type": "code",
   "execution_count": 27,
   "id": "2ee18e37",
   "metadata": {},
   "outputs": [
    {
     "data": {
      "text/plain": [
       "[1, 2, 3, 4, 5, 6]"
      ]
     },
     "execution_count": 27,
     "metadata": {},
     "output_type": "execute_result"
    }
   ],
   "source": [
    "#extend() fn -----> it extends the list\n",
    "\n",
    "list1 = [1,2,3,4]\n",
    "list1.extend([5,6])\n",
    "list1"
   ]
  },
  {
   "cell_type": "code",
   "execution_count": 28,
   "id": "af0dc4d1",
   "metadata": {},
   "outputs": [
    {
     "data": {
      "text/plain": [
       "[5, 6, 7, 8, [4, 9]]"
      ]
     },
     "execution_count": 28,
     "metadata": {},
     "output_type": "execute_result"
    }
   ],
   "source": [
    "#append() fn -----> it extends the list, but as nested\n",
    "list2 = [5,6,7,8]\n",
    "list2.append([4,9])\n",
    "list2"
   ]
  },
  {
   "cell_type": "code",
   "execution_count": 29,
   "id": "8037789c",
   "metadata": {},
   "outputs": [
    {
     "data": {
      "text/plain": [
       "[1, 2, 4]"
      ]
     },
     "execution_count": 29,
     "metadata": {},
     "output_type": "execute_result"
    }
   ],
   "source": [
    "#del command\n",
    "\n",
    "list1 = [1,2,3,4]\n",
    "del list1[2]\n",
    "list1"
   ]
  },
  {
   "cell_type": "code",
   "execution_count": 30,
   "id": "3b32293d",
   "metadata": {},
   "outputs": [
    {
     "data": {
      "text/plain": [
       "[6, 7, 8]"
      ]
     },
     "execution_count": 30,
     "metadata": {},
     "output_type": "execute_result"
    }
   ],
   "source": [
    "# Pop() ---> deletes the obejct based on index value.\n",
    "list2 = [5,6,7,8]\n",
    "list2.pop(0)\n",
    "list2"
   ]
  },
  {
   "cell_type": "code",
   "execution_count": 31,
   "id": "2f9b6ccf",
   "metadata": {},
   "outputs": [
    {
     "data": {
      "text/plain": [
       "[5, 6, 7]"
      ]
     },
     "execution_count": 31,
     "metadata": {},
     "output_type": "execute_result"
    }
   ],
   "source": [
    "# pop() ---> if value is not defined then it will delete the last element\n",
    "\n",
    "list2 = [5,6,7,8] \n",
    "list2.pop()\n",
    "list2"
   ]
  },
  {
   "cell_type": "code",
   "execution_count": 32,
   "id": "fa66d6e1",
   "metadata": {},
   "outputs": [
    {
     "data": {
      "text/plain": [
       "[1, 3, 4]"
      ]
     },
     "execution_count": 32,
     "metadata": {},
     "output_type": "execute_result"
    }
   ],
   "source": [
    "#remove ---> works on particualr value\n",
    "\n",
    "list3 = [1,2,3,4]\n",
    "list3.remove(2)\n",
    "list3"
   ]
  },
  {
   "cell_type": "code",
   "execution_count": 35,
   "id": "230a4879",
   "metadata": {},
   "outputs": [
    {
     "data": {
      "text/plain": [
       "[5, 6, 7, 9]"
      ]
     },
     "execution_count": 35,
     "metadata": {},
     "output_type": "execute_result"
    }
   ],
   "source": [
    "#sorting ---> ascending order\n",
    "\n",
    "a = [9,6,5,7]\n",
    "a.sort()\n",
    "a"
   ]
  },
  {
   "cell_type": "code",
   "execution_count": 36,
   "id": "f7c1e0a6",
   "metadata": {},
   "outputs": [
    {
     "data": {
      "text/plain": [
       "[9, 7, 6, 5]"
      ]
     },
     "execution_count": 36,
     "metadata": {},
     "output_type": "execute_result"
    }
   ],
   "source": [
    "# descending order\n",
    "\n",
    "a.sort(reverse = True) \n",
    "a"
   ]
  },
  {
   "cell_type": "markdown",
   "id": "7b0ebf8a",
   "metadata": {},
   "source": [
    "# Differnce between sort & sorted"
   ]
  },
  {
   "cell_type": "code",
   "execution_count": 37,
   "id": "c60a3b07",
   "metadata": {},
   "outputs": [
    {
     "data": {
      "text/plain": [
       "['Dhoni', 'Soumavo', 'Virat', 'Zaheer']"
      ]
     },
     "execution_count": 37,
     "metadata": {},
     "output_type": "execute_result"
    }
   ],
   "source": [
    "#sort will change the old one to new one\n",
    "\n",
    "a = [\"Soumavo\", \"Dhoni\", \"Virat\", \"Zaheer\"]\n",
    "a.sort()\n",
    "a"
   ]
  },
  {
   "cell_type": "code",
   "execution_count": 38,
   "id": "bb361967",
   "metadata": {},
   "outputs": [
    {
     "name": "stdout",
     "output_type": "stream",
     "text": [
      "['Soumavo', 'Dhoni', 'Virat', 'Zaheer']\n",
      "['Dhoni', 'Soumavo', 'Virat', 'Zaheer']\n"
     ]
    }
   ],
   "source": [
    "#sorted will create a new statement along with old one\n",
    "\n",
    "a = [\"Soumavo\", \"Dhoni\", \"Virat\", \"Zaheer\"]\n",
    "b = sorted(a)\n",
    "print(a)\n",
    "print(b)"
   ]
  },
  {
   "cell_type": "markdown",
   "id": "e2f5fa98",
   "metadata": {},
   "source": [
    "# Shallow Copy"
   ]
  },
  {
   "cell_type": "code",
   "execution_count": 39,
   "id": "a8be5fb1",
   "metadata": {},
   "outputs": [
    {
     "name": "stdout",
     "output_type": "stream",
     "text": [
      "['Soumavo', 'Dhoni', 'Virat', 'Zaheer']\n",
      "['Soumavo', 'Dhoni', 'Virat', 'Zaheer']\n"
     ]
    }
   ],
   "source": [
    "a = ['Soumavo', 'Dhoni', 'Virat', 'Zaheer']\n",
    "b = a\n",
    "print (a)\n",
    "print (b)"
   ]
  },
  {
   "cell_type": "code",
   "execution_count": 40,
   "id": "21c723d6",
   "metadata": {},
   "outputs": [
    {
     "data": {
      "text/plain": [
       "'Soumavo'"
      ]
     },
     "execution_count": 40,
     "metadata": {},
     "output_type": "execute_result"
    }
   ],
   "source": [
    "a.pop(0)"
   ]
  },
  {
   "cell_type": "code",
   "execution_count": 41,
   "id": "ac456cde",
   "metadata": {},
   "outputs": [
    {
     "name": "stdout",
     "output_type": "stream",
     "text": [
      "['Dhoni', 'Virat', 'Zaheer']\n",
      "['Dhoni', 'Virat', 'Zaheer']\n"
     ]
    }
   ],
   "source": [
    "# if we delete one element from (a) it will be deleted from (b) as well, because it is mentioned a=b\n",
    "\n",
    "print(a)\n",
    "print(b)"
   ]
  },
  {
   "cell_type": "code",
   "execution_count": 47,
   "id": "14f86d55",
   "metadata": {},
   "outputs": [
    {
     "name": "stdout",
     "output_type": "stream",
     "text": [
      "['warner', 'cummins']\n"
     ]
    }
   ],
   "source": [
    "#it will be pre assigned for (d)\n",
    "\n",
    "c = ['Smith','warner','cummins', 'lee']\n",
    "d = c[1:3]\n",
    "print(d)"
   ]
  },
  {
   "cell_type": "code",
   "execution_count": 48,
   "id": "a3da5ca6",
   "metadata": {},
   "outputs": [
    {
     "name": "stdout",
     "output_type": "stream",
     "text": [
      "['Smith', 'warner', 'cummins', 'lee']\n"
     ]
    }
   ],
   "source": [
    "# in that case (c) will be remain untouced \n",
    "\n",
    "print(c)"
   ]
  },
  {
   "cell_type": "markdown",
   "id": "298cf8e3",
   "metadata": {},
   "source": [
    "# Problem statement"
   ]
  },
  {
   "cell_type": "markdown",
   "id": "826b61f5",
   "metadata": {},
   "source": [
    "1. Split the string input_str = \"Soumavo_Dutta_06\" to the person's second name. first name and unique customer code. In this exmp, second_name = 'dutta', first_name = 'Soumavo', birth_date = '06'.                                               A sample output of the input 'Soumavo_dutta_06 is:"
   ]
  },
  {
   "cell_type": "code",
   "execution_count": 49,
   "id": "f86b92f6",
   "metadata": {},
   "outputs": [],
   "source": [
    "input_str = \"Soumavo_Dutta_06\""
   ]
  },
  {
   "cell_type": "code",
   "execution_count": 50,
   "id": "6a162b39",
   "metadata": {},
   "outputs": [
    {
     "data": {
      "text/plain": [
       "'Soumavo_Dutta_06'"
      ]
     },
     "execution_count": 50,
     "metadata": {},
     "output_type": "execute_result"
    }
   ],
   "source": [
    "input_str"
   ]
  },
  {
   "cell_type": "code",
   "execution_count": 51,
   "id": "b2c34070",
   "metadata": {},
   "outputs": [
    {
     "data": {
      "text/plain": [
       "'Soumavo'"
      ]
     },
     "execution_count": 51,
     "metadata": {},
     "output_type": "execute_result"
    }
   ],
   "source": [
    "str1 = input_str[0:7]\n",
    "str1"
   ]
  },
  {
   "cell_type": "code",
   "execution_count": 52,
   "id": "206efef2",
   "metadata": {},
   "outputs": [
    {
     "data": {
      "text/plain": [
       "'Dutta'"
      ]
     },
     "execution_count": 52,
     "metadata": {},
     "output_type": "execute_result"
    }
   ],
   "source": [
    "str2 = input_str[8:13]\n",
    "str2"
   ]
  },
  {
   "cell_type": "code",
   "execution_count": 53,
   "id": "cd8a840c",
   "metadata": {},
   "outputs": [
    {
     "data": {
      "text/plain": [
       "'06'"
      ]
     },
     "execution_count": 53,
     "metadata": {},
     "output_type": "execute_result"
    }
   ],
   "source": [
    "str3 = input_str[14:16]\n",
    "str3"
   ]
  },
  {
   "cell_type": "code",
   "execution_count": 54,
   "id": "70d140ed",
   "metadata": {},
   "outputs": [
    {
     "name": "stdout",
     "output_type": "stream",
     "text": [
      "Soumavo\n",
      "Dutta\n",
      "06\n"
     ]
    }
   ],
   "source": [
    "input_str = \"Soumavo_Dutta_06\"\n",
    "print(input_str[0:7])\n",
    "print(input_str[8:13])\n",
    "print(input_str[14:16])"
   ]
  },
  {
   "cell_type": "code",
   "execution_count": 56,
   "id": "b5b5f37b",
   "metadata": {},
   "outputs": [
    {
     "data": {
      "text/plain": [
       "['Soumavo', 'Dutta', '06']"
      ]
     },
     "execution_count": 56,
     "metadata": {},
     "output_type": "execute_result"
    }
   ],
   "source": [
    "#split method\n",
    "\n",
    "input_str = \"Soumavo_Dutta_06\"\n",
    "list1 = input_str.split('_')\n",
    "list1"
   ]
  },
  {
   "cell_type": "code",
   "execution_count": 57,
   "id": "a7a149ff",
   "metadata": {},
   "outputs": [
    {
     "name": "stdout",
     "output_type": "stream",
     "text": [
      "Soumavo\n",
      "Dutta\n",
      "06\n"
     ]
    }
   ],
   "source": [
    "print(list1[0])\n",
    "print(list1[1])\n",
    "print(list1[2])"
   ]
  },
  {
   "cell_type": "markdown",
   "id": "d9b80b86",
   "metadata": {},
   "source": [
    "2. list_10 is [ 2,33,55, 67]. what is list_10 [-5]?"
   ]
  },
  {
   "cell_type": "code",
   "execution_count": 59,
   "id": "42872c1a",
   "metadata": {},
   "outputs": [
    {
     "data": {
      "text/plain": [
       "[2, 33, 55, 67]"
      ]
     },
     "execution_count": 59,
     "metadata": {},
     "output_type": "execute_result"
    }
   ],
   "source": [
    "list_10 = [2,33,55,67]\n",
    "list_10"
   ]
  },
  {
   "cell_type": "code",
   "execution_count": 61,
   "id": "3d87bc4b",
   "metadata": {},
   "outputs": [
    {
     "data": {
      "text/plain": [
       "2"
      ]
     },
     "execution_count": 61,
     "metadata": {},
     "output_type": "execute_result"
    }
   ],
   "source": [
    "list_10[-4] # [-5] will give out of range"
   ]
  },
  {
   "cell_type": "code",
   "execution_count": 64,
   "id": "b03b12b0",
   "metadata": {},
   "outputs": [
    {
     "data": {
      "text/plain": [
       "['1', '2', '3', '4']"
      ]
     },
     "execution_count": 64,
     "metadata": {},
     "output_type": "execute_result"
    }
   ],
   "source": [
    "word = ['1', '2', '3', '4']\n",
    "word"
   ]
  },
  {
   "cell_type": "code",
   "execution_count": 67,
   "id": "b56505f7",
   "metadata": {},
   "outputs": [
    {
     "name": "stdout",
     "output_type": "stream",
     "text": [
      "[0]\n"
     ]
    }
   ],
   "source": [
    "word[:] = []\n",
    "print(word)"
   ]
  },
  {
   "cell_type": "code",
   "execution_count": 68,
   "id": "613cd34d",
   "metadata": {},
   "outputs": [
    {
     "name": "stdout",
     "output_type": "stream",
     "text": [
      "['Python', 'R', 'SAS', 'Tableau']\n",
      "['SAS', 'R', 'Python', 'Tableau']\n"
     ]
    }
   ],
   "source": [
    "sub = ['SAS', 'R', 'Python', 'Tableau']\n",
    "print(sorted(sub))\n",
    "print(sub)"
   ]
  },
  {
   "cell_type": "code",
   "execution_count": 70,
   "id": "6a10a49a",
   "metadata": {},
   "outputs": [
    {
     "name": "stdout",
     "output_type": "stream",
     "text": [
      "['Tableau', 'SAS', 'R', 'Python']\n"
     ]
    }
   ],
   "source": [
    "sub.sort(reverse = True)\n",
    "print(sub)"
   ]
  },
  {
   "cell_type": "markdown",
   "id": "236ae65d",
   "metadata": {},
   "source": [
    "\n",
    "3. Remove SPSS from input_list=['SAS', 'R', 'PYTHON', 'SPSS'] and add 'SPARK' in its place. \n",
    "Sample Input: ['SAS', 'R', 'PYTHON', 'SPSS']  Sample Output: ['SAS', 'R', 'PYTHON', 'SPARK']\n"
   ]
  },
  {
   "cell_type": "code",
   "execution_count": 72,
   "id": "baeec9ca",
   "metadata": {},
   "outputs": [
    {
     "name": "stdout",
     "output_type": "stream",
     "text": [
      "['SAS', 'R', 'PYTHON', 'SPARK']\n"
     ]
    }
   ],
   "source": [
    "input_list = ['SAS', 'R', 'PYTHON', 'SPSS']\n",
    "input_list[-1] = 'SPARK'\n",
    "print(input_list)"
   ]
  },
  {
   "cell_type": "markdown",
   "id": "6c168329",
   "metadata": {},
   "source": [
    "\n",
    "4. Convert a list ['Pythons syntax is easy to learn', 'Pythons syntax is very clear'] to a string using ‘&’. The sample output of this string will be: \"Pythons syntax is easy to learn & Pythons syntax is very clear\"\n",
    "[Note that there is a space on both sides of '&' (as usual in English sentences)]"
   ]
  },
  {
   "cell_type": "code",
   "execution_count": 74,
   "id": "e2d8b5a5",
   "metadata": {},
   "outputs": [
    {
     "name": "stdout",
     "output_type": "stream",
     "text": [
      "Pythons syntax is easy to learn & Pythons syntax is very clear\n"
     ]
    }
   ],
   "source": [
    "Py_list1 = 'Pythons syntax is easy to learn'\n",
    "Py_list2 =  'Pythons syntax is very clear'\n",
    "py_list3 = Py_list1 + ' & '+ Py_list2\n",
    "print(py_list3)"
   ]
  },
  {
   "cell_type": "markdown",
   "id": "ccc2e1b1",
   "metadata": {},
   "source": [
    "\n",
    "5. How will I extract Python from the nested list\n",
    "input_list = [['SAS','R'],['Tableau','SQL'],['Python','Java']]\n"
   ]
  },
  {
   "cell_type": "code",
   "execution_count": 76,
   "id": "94d68b6c",
   "metadata": {},
   "outputs": [
    {
     "data": {
      "text/plain": [
       "'Python'"
      ]
     },
     "execution_count": 76,
     "metadata": {},
     "output_type": "execute_result"
    }
   ],
   "source": [
    "input_list10 = [['SAS','R'],['Tableau','SQL'],['Python','Java']]\n",
    "input_list10[2][0]"
   ]
  },
  {
   "cell_type": "code",
   "execution_count": null,
   "id": "e6a22ba9",
   "metadata": {},
   "outputs": [],
   "source": []
  }
 ],
 "metadata": {
  "kernelspec": {
   "display_name": "Python 3 (ipykernel)",
   "language": "python",
   "name": "python3"
  },
  "language_info": {
   "codemirror_mode": {
    "name": "ipython",
    "version": 3
   },
   "file_extension": ".py",
   "mimetype": "text/x-python",
   "name": "python",
   "nbconvert_exporter": "python",
   "pygments_lexer": "ipython3",
   "version": "3.9.7"
  }
 },
 "nbformat": 4,
 "nbformat_minor": 5
}
