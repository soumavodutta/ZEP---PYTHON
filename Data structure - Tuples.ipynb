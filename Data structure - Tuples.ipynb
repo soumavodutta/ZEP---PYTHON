{
 "cells": [
  {
   "cell_type": "markdown",
   "id": "2b8baa83",
   "metadata": {},
   "source": [
    "# Tuples"
   ]
  },
  {
   "cell_type": "markdown",
   "id": "fa511b03",
   "metadata": {},
   "source": [
    "1. Tuples are order sequence of mixed data types\n",
    "2. Tuples are written in comma seperated eleents within parenthesis "
   ]
  },
  {
   "cell_type": "code",
   "execution_count": 1,
   "id": "552f2184",
   "metadata": {},
   "outputs": [
    {
     "data": {
      "text/plain": [
       "tuple"
      ]
     },
     "execution_count": 1,
     "metadata": {},
     "output_type": "execute_result"
    }
   ],
   "source": [
    "t = (1,2,3,4,5)\n",
    "type(t)"
   ]
  },
  {
   "cell_type": "code",
   "execution_count": 2,
   "id": "1c011cae",
   "metadata": {},
   "outputs": [
    {
     "name": "stdout",
     "output_type": "stream",
     "text": [
      "(1, 2, 3, 4, 5)\n"
     ]
    }
   ],
   "source": [
    "print(t)"
   ]
  },
  {
   "cell_type": "code",
   "execution_count": 3,
   "id": "a003f323",
   "metadata": {},
   "outputs": [],
   "source": [
    "t1 = 'hello', 5, 8.9"
   ]
  },
  {
   "cell_type": "code",
   "execution_count": 4,
   "id": "542c6c7c",
   "metadata": {},
   "outputs": [
    {
     "data": {
      "text/plain": [
       "tuple"
      ]
     },
     "execution_count": 4,
     "metadata": {},
     "output_type": "execute_result"
    }
   ],
   "source": [
    "type(t1)"
   ]
  },
  {
   "cell_type": "code",
   "execution_count": 5,
   "id": "dee083e2",
   "metadata": {},
   "outputs": [
    {
     "data": {
      "text/plain": [
       "3"
      ]
     },
     "execution_count": 5,
     "metadata": {},
     "output_type": "execute_result"
    }
   ],
   "source": [
    "len(t1)"
   ]
  },
  {
   "cell_type": "code",
   "execution_count": 6,
   "id": "79a67020",
   "metadata": {},
   "outputs": [],
   "source": [
    "t2 = 8, 'Hiii', 9.0"
   ]
  },
  {
   "cell_type": "code",
   "execution_count": 7,
   "id": "2c3fe700",
   "metadata": {},
   "outputs": [
    {
     "data": {
      "text/plain": [
       "tuple"
      ]
     },
     "execution_count": 7,
     "metadata": {},
     "output_type": "execute_result"
    }
   ],
   "source": [
    "type (t2)"
   ]
  },
  {
   "cell_type": "code",
   "execution_count": 8,
   "id": "67f61a49",
   "metadata": {},
   "outputs": [
    {
     "name": "stdout",
     "output_type": "stream",
     "text": [
      "('hello', 5, 8.9, 8, 'Hiii', 9.0)\n"
     ]
    }
   ],
   "source": [
    "t3 = t1 + t2\n",
    "print(t3)"
   ]
  },
  {
   "cell_type": "code",
   "execution_count": 9,
   "id": "5994a507",
   "metadata": {},
   "outputs": [
    {
     "data": {
      "text/plain": [
       "6"
      ]
     },
     "execution_count": 9,
     "metadata": {},
     "output_type": "execute_result"
    }
   ],
   "source": [
    "len(t3)"
   ]
  },
  {
   "cell_type": "code",
   "execution_count": 10,
   "id": "1bbb9b6e",
   "metadata": {},
   "outputs": [],
   "source": [
    "t4 = 8, 'Hiii', 9.0, (8,6) # nested tuple"
   ]
  },
  {
   "cell_type": "code",
   "execution_count": 11,
   "id": "f1b5963a",
   "metadata": {},
   "outputs": [
    {
     "data": {
      "text/plain": [
       "(8, 'Hiii', 9.0, (8, 6))"
      ]
     },
     "execution_count": 11,
     "metadata": {},
     "output_type": "execute_result"
    }
   ],
   "source": [
    "t4"
   ]
  },
  {
   "cell_type": "code",
   "execution_count": 12,
   "id": "0fbc5a4d",
   "metadata": {},
   "outputs": [
    {
     "name": "stdout",
     "output_type": "stream",
     "text": [
      "<class 'tuple'>\n"
     ]
    }
   ],
   "source": [
    "t5 = (8, 'Good', 9.0, [8,6,5])\n",
    "print(type(t5))"
   ]
  },
  {
   "cell_type": "code",
   "execution_count": 13,
   "id": "b6dd2d77",
   "metadata": {},
   "outputs": [
    {
     "name": "stdout",
     "output_type": "stream",
     "text": [
      "<class 'list'>\n"
     ]
    }
   ],
   "source": [
    "print(type(t5[3]))"
   ]
  },
  {
   "cell_type": "code",
   "execution_count": 14,
   "id": "9d478e63",
   "metadata": {},
   "outputs": [
    {
     "data": {
      "text/plain": [
       "list"
      ]
     },
     "execution_count": 14,
     "metadata": {},
     "output_type": "execute_result"
    }
   ],
   "source": [
    "type(t5[3])"
   ]
  },
  {
   "cell_type": "code",
   "execution_count": 15,
   "id": "4eecbc88",
   "metadata": {},
   "outputs": [],
   "source": [
    "soumavo = t5[3] # soumavo is just a variable"
   ]
  },
  {
   "cell_type": "code",
   "execution_count": 16,
   "id": "03a31ea8",
   "metadata": {},
   "outputs": [
    {
     "data": {
      "text/plain": [
       "list"
      ]
     },
     "execution_count": 16,
     "metadata": {},
     "output_type": "execute_result"
    }
   ],
   "source": [
    "type(soumavo)"
   ]
  },
  {
   "cell_type": "code",
   "execution_count": 17,
   "id": "7fcbc77b",
   "metadata": {},
   "outputs": [
    {
     "data": {
      "text/plain": [
       "6"
      ]
     },
     "execution_count": 17,
     "metadata": {},
     "output_type": "execute_result"
    }
   ],
   "source": [
    "soumavo[1] # from the list [8,6,5]"
   ]
  },
  {
   "cell_type": "code",
   "execution_count": 18,
   "id": "408a21c7",
   "metadata": {},
   "outputs": [
    {
     "data": {
      "text/plain": [
       "(8, 'Good', 9.0, [8, 6, 5])"
      ]
     },
     "execution_count": 18,
     "metadata": {},
     "output_type": "execute_result"
    }
   ],
   "source": [
    "t5"
   ]
  },
  {
   "cell_type": "code",
   "execution_count": 19,
   "id": "56d7c784",
   "metadata": {},
   "outputs": [
    {
     "data": {
      "text/plain": [
       "8"
      ]
     },
     "execution_count": 19,
     "metadata": {},
     "output_type": "execute_result"
    }
   ],
   "source": [
    "t5[3][0]"
   ]
  },
  {
   "cell_type": "markdown",
   "id": "7a220f32",
   "metadata": {},
   "source": [
    "Tuple can be defined in various ways"
   ]
  },
  {
   "cell_type": "code",
   "execution_count": 20,
   "id": "e40a939b",
   "metadata": {},
   "outputs": [
    {
     "name": "stdout",
     "output_type": "stream",
     "text": [
      "(1, 2, 3, 4, 5, 6)\n",
      "<class 'tuple'>\n"
     ]
    }
   ],
   "source": [
    "t1 = 1,2,3,4,5,6\n",
    "print(t1)\n",
    "print(type(t1))"
   ]
  },
  {
   "cell_type": "code",
   "execution_count": 21,
   "id": "54685069",
   "metadata": {},
   "outputs": [
    {
     "data": {
      "text/plain": [
       "float"
      ]
     },
     "execution_count": 21,
     "metadata": {},
     "output_type": "execute_result"
    }
   ],
   "source": [
    "t2 = 8.9\n",
    "type (t2)"
   ]
  },
  {
   "cell_type": "code",
   "execution_count": 22,
   "id": "a0fcf859",
   "metadata": {},
   "outputs": [
    {
     "data": {
      "text/plain": [
       "tuple"
      ]
     },
     "execution_count": 22,
     "metadata": {},
     "output_type": "execute_result"
    }
   ],
   "source": [
    "t2 = 8.9,\n",
    "type (t2)"
   ]
  },
  {
   "cell_type": "code",
   "execution_count": 23,
   "id": "ea57e4f8",
   "metadata": {},
   "outputs": [
    {
     "name": "stdout",
     "output_type": "stream",
     "text": [
      "(1,)\n"
     ]
    },
    {
     "data": {
      "text/plain": [
       "tuple"
      ]
     },
     "execution_count": 23,
     "metadata": {},
     "output_type": "execute_result"
    }
   ],
   "source": [
    "#single value tuple\n",
    "\n",
    "t3 = 1,   # if We write this same value without comma (1), it will the type as INT. \n",
    "print(t3)\n",
    "type(t3)"
   ]
  },
  {
   "cell_type": "markdown",
   "id": "f4896d4a",
   "metadata": {},
   "source": [
    "Indexing in tuple "
   ]
  },
  {
   "cell_type": "code",
   "execution_count": 24,
   "id": "5de555fb",
   "metadata": {},
   "outputs": [
    {
     "data": {
      "text/plain": [
       "('Kolkata', 10, 'Python', 100, 'Delhi')"
      ]
     },
     "execution_count": 24,
     "metadata": {},
     "output_type": "execute_result"
    }
   ],
   "source": [
    "t = (\"Kolkata\", 10, \"Python\", 100, \"Delhi\")\n",
    "t"
   ]
  },
  {
   "cell_type": "code",
   "execution_count": 25,
   "id": "7c7f352d",
   "metadata": {},
   "outputs": [
    {
     "data": {
      "text/plain": [
       "('Kolkata', 10, 'Python')"
      ]
     },
     "execution_count": 25,
     "metadata": {},
     "output_type": "execute_result"
    }
   ],
   "source": [
    "t [0:3]"
   ]
  },
  {
   "cell_type": "code",
   "execution_count": 26,
   "id": "8fe8240d",
   "metadata": {},
   "outputs": [
    {
     "data": {
      "text/plain": [
       "(10, 'Python', 100, 'Delhi')"
      ]
     },
     "execution_count": 26,
     "metadata": {},
     "output_type": "execute_result"
    }
   ],
   "source": [
    "t [1: ]"
   ]
  },
  {
   "cell_type": "code",
   "execution_count": 27,
   "id": "89f209cb",
   "metadata": {},
   "outputs": [
    {
     "data": {
      "text/plain": [
       "('Kolkata', 10)"
      ]
     },
     "execution_count": 27,
     "metadata": {},
     "output_type": "execute_result"
    }
   ],
   "source": [
    "t [ : 2]"
   ]
  },
  {
   "cell_type": "code",
   "execution_count": 28,
   "id": "4278b685",
   "metadata": {},
   "outputs": [],
   "source": [
    "str1 = \"Hello World\""
   ]
  },
  {
   "cell_type": "code",
   "execution_count": 29,
   "id": "c43033cd",
   "metadata": {},
   "outputs": [
    {
     "data": {
      "text/plain": [
       "'Hello World'"
      ]
     },
     "execution_count": 29,
     "metadata": {},
     "output_type": "execute_result"
    }
   ],
   "source": [
    "str1"
   ]
  },
  {
   "cell_type": "code",
   "execution_count": 30,
   "id": "18f996d0",
   "metadata": {},
   "outputs": [
    {
     "data": {
      "text/plain": [
       "'World'"
      ]
     },
     "execution_count": 30,
     "metadata": {},
     "output_type": "execute_result"
    }
   ],
   "source": [
    "str1[6 : ]"
   ]
  },
  {
   "cell_type": "code",
   "execution_count": 31,
   "id": "2de768e3",
   "metadata": {},
   "outputs": [
    {
     "data": {
      "text/plain": [
       "'lo Wor'"
      ]
     },
     "execution_count": 31,
     "metadata": {},
     "output_type": "execute_result"
    }
   ],
   "source": [
    "str1[3 : 9]"
   ]
  },
  {
   "cell_type": "markdown",
   "id": "2ad34d0d",
   "metadata": {},
   "source": [
    "Slicing in tuple "
   ]
  },
  {
   "cell_type": "code",
   "execution_count": 32,
   "id": "5e08bc23",
   "metadata": {},
   "outputs": [
    {
     "data": {
      "text/plain": [
       "('Mumbai', 20)"
      ]
     },
     "execution_count": 32,
     "metadata": {},
     "output_type": "execute_result"
    }
   ],
   "source": [
    "# Slicing first 2 in tuple \n",
    "t1 = (\"Mumbai\", 20, \"SQL\", 800, \"Chennai\")\n",
    "t1 [0:2]"
   ]
  },
  {
   "cell_type": "code",
   "execution_count": 33,
   "id": "deb42266",
   "metadata": {},
   "outputs": [
    {
     "data": {
      "text/plain": [
       "(800, 'Chennai')"
      ]
     },
     "execution_count": 33,
     "metadata": {},
     "output_type": "execute_result"
    }
   ],
   "source": [
    "# Slicing last 2 in tuple \n",
    "\n",
    "t1 [-2 :]"
   ]
  },
  {
   "cell_type": "code",
   "execution_count": 34,
   "id": "04a592b6",
   "metadata": {},
   "outputs": [
    {
     "data": {
      "text/plain": [
       "('Kolkata', 10, 'Python', 100, 'Delhi', 'Mumbai', 20, 'SQL', 800, 'Chennai')"
      ]
     },
     "execution_count": 34,
     "metadata": {},
     "output_type": "execute_result"
    }
   ],
   "source": [
    "# concatination of 2 tuples\n",
    "\n",
    "t = (\"Kolkata\", 10, \"Python\", 100, \"Delhi\")\n",
    "t1 = (\"Mumbai\", 20, \"SQL\", 800, \"Chennai\")\n",
    "t2 = t + t1\n",
    "t2"
   ]
  },
  {
   "cell_type": "code",
   "execution_count": 35,
   "id": "c8f8ea23",
   "metadata": {},
   "outputs": [
    {
     "name": "stdout",
     "output_type": "stream",
     "text": [
      "166.5\n",
      "6\n",
      "72\n"
     ]
    }
   ],
   "source": [
    "# min, max , sum fn\n",
    "\n",
    "l7 = 6, 45, 34, 72, 9.5\n",
    "print (sum(l7))\n",
    "print (min(l7))\n",
    "print (max(l7))\n"
   ]
  },
  {
   "cell_type": "code",
   "execution_count": 36,
   "id": "86dcc4c0",
   "metadata": {},
   "outputs": [
    {
     "ename": "TypeError",
     "evalue": "unsupported operand type(s) for +: 'int' and 'str'",
     "output_type": "error",
     "traceback": [
      "\u001b[1;31m---------------------------------------------------------------------------\u001b[0m",
      "\u001b[1;31mTypeError\u001b[0m                                 Traceback (most recent call last)",
      "\u001b[1;32m~\\AppData\\Local\\Temp/ipykernel_7896/3775983386.py\u001b[0m in \u001b[0;36m<module>\u001b[1;34m\u001b[0m\n\u001b[0;32m      1\u001b[0m \u001b[0mr\u001b[0m \u001b[1;33m=\u001b[0m \u001b[1;33m(\u001b[0m\u001b[1;36m2\u001b[0m\u001b[1;33m,\u001b[0m\u001b[1;36m4\u001b[0m\u001b[1;33m,\u001b[0m\u001b[1;36m6\u001b[0m\u001b[1;33m,\u001b[0m \u001b[1;34m'Hello'\u001b[0m\u001b[1;33m)\u001b[0m \u001b[1;31m# it won't be possible because it has int & str both, so sum operation is not possible\u001b[0m\u001b[1;33m\u001b[0m\u001b[1;33m\u001b[0m\u001b[0m\n\u001b[1;32m----> 2\u001b[1;33m \u001b[0msum\u001b[0m \u001b[1;33m(\u001b[0m\u001b[0mr\u001b[0m\u001b[1;33m)\u001b[0m\u001b[1;33m\u001b[0m\u001b[1;33m\u001b[0m\u001b[0m\n\u001b[0m",
      "\u001b[1;31mTypeError\u001b[0m: unsupported operand type(s) for +: 'int' and 'str'"
     ]
    }
   ],
   "source": [
    "r = (2,4,6, 'Hello') # it won't be possible because it has int & str both, so sum operation is not possible\n",
    "sum (r)"
   ]
  },
  {
   "cell_type": "code",
   "execution_count": 37,
   "id": "c31e555a",
   "metadata": {},
   "outputs": [
    {
     "data": {
      "text/plain": [
       "(1, 3, 5, 7, 'GGMU', (5, 7, 8), ' Champ', ('E', 'T', 'H'))"
      ]
     },
     "execution_count": 37,
     "metadata": {},
     "output_type": "execute_result"
    }
   ],
   "source": [
    "tup1 = (1,3,5,7, \"GGMU\", (5,7,8), \" Champ\", ('E', 'T', 'H'))\n",
    "tup1"
   ]
  },
  {
   "cell_type": "code",
   "execution_count": 38,
   "id": "447524f1",
   "metadata": {},
   "outputs": [
    {
     "data": {
      "text/plain": [
       "'E'"
      ]
     },
     "execution_count": 38,
     "metadata": {},
     "output_type": "execute_result"
    }
   ],
   "source": [
    "tup1 [7][0]"
   ]
  },
  {
   "cell_type": "code",
   "execution_count": 39,
   "id": "cb01c35c",
   "metadata": {},
   "outputs": [
    {
     "data": {
      "text/plain": [
       "'E'"
      ]
     },
     "execution_count": 39,
     "metadata": {},
     "output_type": "execute_result"
    }
   ],
   "source": [
    "tup1 [-1][-3]"
   ]
  },
  {
   "cell_type": "markdown",
   "id": "123d92ce",
   "metadata": {},
   "source": [
    "Tuple is non mutable whereas list is mutable"
   ]
  },
  {
   "cell_type": "code",
   "execution_count": 40,
   "id": "9a9e7772",
   "metadata": {},
   "outputs": [
    {
     "name": "stdout",
     "output_type": "stream",
     "text": [
      "['soumavo', 'somavo', 'bibek', 'mahi']\n"
     ]
    }
   ],
   "source": [
    "list1 = ['soumavo', 'somavo', 'bibek', 'virat']\n",
    "list1 [3] = 'mahi'\n",
    "print(list1)"
   ]
  },
  {
   "cell_type": "code",
   "execution_count": 41,
   "id": "34cb839e",
   "metadata": {},
   "outputs": [
    {
     "ename": "TypeError",
     "evalue": "'tuple' object does not support item assignment",
     "output_type": "error",
     "traceback": [
      "\u001b[1;31m---------------------------------------------------------------------------\u001b[0m",
      "\u001b[1;31mTypeError\u001b[0m                                 Traceback (most recent call last)",
      "\u001b[1;32m~\\AppData\\Local\\Temp/ipykernel_7896/5458477.py\u001b[0m in \u001b[0;36m<module>\u001b[1;34m\u001b[0m\n\u001b[0;32m      1\u001b[0m \u001b[0mtup2\u001b[0m \u001b[1;33m=\u001b[0m \u001b[1;33m(\u001b[0m\u001b[1;34m'soumavo'\u001b[0m\u001b[1;33m,\u001b[0m \u001b[1;34m'somavo'\u001b[0m\u001b[1;33m,\u001b[0m \u001b[1;34m'bibek'\u001b[0m\u001b[1;33m,\u001b[0m \u001b[1;34m'virat'\u001b[0m\u001b[1;33m)\u001b[0m\u001b[1;33m\u001b[0m\u001b[1;33m\u001b[0m\u001b[0m\n\u001b[1;32m----> 2\u001b[1;33m \u001b[0mtup2\u001b[0m \u001b[1;33m[\u001b[0m\u001b[1;36m3\u001b[0m\u001b[1;33m]\u001b[0m \u001b[1;33m=\u001b[0m \u001b[1;34m'mahi'\u001b[0m\u001b[1;33m\u001b[0m\u001b[1;33m\u001b[0m\u001b[0m\n\u001b[0m\u001b[0;32m      3\u001b[0m \u001b[0mprint\u001b[0m\u001b[1;33m(\u001b[0m\u001b[0mtup2\u001b[0m\u001b[1;33m)\u001b[0m\u001b[1;33m\u001b[0m\u001b[1;33m\u001b[0m\u001b[0m\n",
      "\u001b[1;31mTypeError\u001b[0m: 'tuple' object does not support item assignment"
     ]
    }
   ],
   "source": [
    "tup2 = ('soumavo', 'somavo', 'bibek', 'virat')\n",
    "tup2 [3] = 'mahi'\n",
    "print(tup2)"
   ]
  },
  {
   "cell_type": "markdown",
   "id": "4162eb6a",
   "metadata": {},
   "source": [
    "# Tuple = Name, DOB, Place of birth, Fathers name, Mothers name etc.\n"
   ]
  },
  {
   "cell_type": "markdown",
   "id": "1a87abec",
   "metadata": {},
   "source": [
    "# List = Relationship status, Current locataion, Phone number, last working Org. etc"
   ]
  },
  {
   "cell_type": "code",
   "execution_count": 42,
   "id": "a6f885ac",
   "metadata": {},
   "outputs": [
    {
     "data": {
      "text/plain": [
       "('Hello', 'welcome', 5, 10, 'world', 'of', 'Soumavo')"
      ]
     },
     "execution_count": 42,
     "metadata": {},
     "output_type": "execute_result"
    }
   ],
   "source": [
    "tup = (\"Hello\",\"welcome\", 5,10, \"world\", \"of\", \"Soumavo\")\n",
    "tup"
   ]
  },
  {
   "cell_type": "code",
   "execution_count": 43,
   "id": "dbeb9c42",
   "metadata": {},
   "outputs": [
    {
     "data": {
      "text/plain": [
       "('Hello', 'welcome')"
      ]
     },
     "execution_count": 43,
     "metadata": {},
     "output_type": "execute_result"
    }
   ],
   "source": [
    "tup[0:2]"
   ]
  },
  {
   "cell_type": "code",
   "execution_count": 44,
   "id": "b375bdf8",
   "metadata": {},
   "outputs": [
    {
     "data": {
      "text/plain": [
       "('world', 'of', 'Soumavo')"
      ]
     },
     "execution_count": 44,
     "metadata": {},
     "output_type": "execute_result"
    }
   ],
   "source": [
    "tup[4:7] # also [-3:] will also work"
   ]
  },
  {
   "cell_type": "code",
   "execution_count": 45,
   "id": "778046e0",
   "metadata": {},
   "outputs": [
    {
     "name": "stdout",
     "output_type": "stream",
     "text": [
      "('Hello', 'welcome', 'to', 'the', 'world', 'of', 'Soumavo')\n"
     ]
    }
   ],
   "source": [
    "new_tup = tup[0:2] + ('to', 'the') + tup[4:7]\n",
    "print(new_tup)"
   ]
  },
  {
   "cell_type": "code",
   "execution_count": 46,
   "id": "a397596b",
   "metadata": {},
   "outputs": [
    {
     "data": {
      "text/plain": [
       "7"
      ]
     },
     "execution_count": 46,
     "metadata": {},
     "output_type": "execute_result"
    }
   ],
   "source": [
    "len(new_tup)"
   ]
  },
  {
   "cell_type": "markdown",
   "id": "91cfb204",
   "metadata": {},
   "source": [
    "Ques 1.) slice the 'S' from the below tuple"
   ]
  },
  {
   "cell_type": "code",
   "execution_count": 47,
   "id": "d1b2ffd4",
   "metadata": {},
   "outputs": [
    {
     "data": {
      "text/plain": [
       "'S'"
      ]
     },
     "execution_count": 47,
     "metadata": {},
     "output_type": "execute_result"
    }
   ],
   "source": [
    "u = (\"SoumavoS20\", 5, 6, 8.9)\n",
    "u [0][7]"
   ]
  },
  {
   "cell_type": "markdown",
   "id": "623b0bb1",
   "metadata": {},
   "source": [
    "# Tuple sorting"
   ]
  },
  {
   "cell_type": "markdown",
   "id": "1386a9b2",
   "metadata": {},
   "source": [
    "*** If you have tuple, convert this into list, then sort it, then again convert this into tuple by type casting."
   ]
  },
  {
   "cell_type": "code",
   "execution_count": 48,
   "id": "e591880e",
   "metadata": {},
   "outputs": [
    {
     "name": "stdout",
     "output_type": "stream",
     "text": [
      "[2, 3, 5, 6, 9]\n",
      "<class 'list'>\n"
     ]
    }
   ],
   "source": [
    "t = (2,3,5,6,9)\n",
    "new_var = sorted(t)\n",
    "print(new_var)\n",
    "print(type(new_var)) # sorrted output is a list"
   ]
  },
  {
   "cell_type": "code",
   "execution_count": 49,
   "id": "dce6b506",
   "metadata": {},
   "outputs": [
    {
     "data": {
      "text/plain": [
       "(2, 3, 5, 6, 9)"
      ]
     },
     "execution_count": 49,
     "metadata": {},
     "output_type": "execute_result"
    }
   ],
   "source": [
    "new_list = sorted(t) # converted into list\n",
    "t"
   ]
  },
  {
   "cell_type": "code",
   "execution_count": 50,
   "id": "6fdb7ad7",
   "metadata": {},
   "outputs": [],
   "source": [
    "# type casting\n",
    "\n",
    "t2 = tuple (new_list)"
   ]
  },
  {
   "cell_type": "code",
   "execution_count": 51,
   "id": "b1e51a88",
   "metadata": {},
   "outputs": [
    {
     "data": {
      "text/plain": [
       "(2, 3, 5, 6, 9)"
      ]
     },
     "execution_count": 51,
     "metadata": {},
     "output_type": "execute_result"
    }
   ],
   "source": [
    "# t was tuple initially, then it became list, and this became tuple by type casting\n",
    "\n",
    "t2 "
   ]
  },
  {
   "cell_type": "code",
   "execution_count": 52,
   "id": "3804e4f9",
   "metadata": {},
   "outputs": [
    {
     "name": "stdout",
     "output_type": "stream",
     "text": [
      "[3, 5, 7, 9]\n",
      "<class 'list'>\n"
     ]
    }
   ],
   "source": [
    "j = (9,7,5,3)\n",
    "j_new = sorted(j)\n",
    "print(j_new)\n",
    "print(type(j_new))"
   ]
  },
  {
   "cell_type": "code",
   "execution_count": 53,
   "id": "39dc8455",
   "metadata": {},
   "outputs": [],
   "source": [
    "j2 = tuple(j_new)"
   ]
  },
  {
   "cell_type": "code",
   "execution_count": 54,
   "id": "02982eb7",
   "metadata": {},
   "outputs": [
    {
     "data": {
      "text/plain": [
       "(3, 5, 7, 9)"
      ]
     },
     "execution_count": 54,
     "metadata": {},
     "output_type": "execute_result"
    }
   ],
   "source": [
    "j2"
   ]
  },
  {
   "cell_type": "code",
   "execution_count": 55,
   "id": "e41fb764",
   "metadata": {},
   "outputs": [
    {
     "data": {
      "text/plain": [
       "tuple"
      ]
     },
     "execution_count": 55,
     "metadata": {},
     "output_type": "execute_result"
    }
   ],
   "source": [
    "type(j2)"
   ]
  },
  {
   "cell_type": "code",
   "execution_count": 56,
   "id": "26037ac2",
   "metadata": {},
   "outputs": [],
   "source": [
    "#nested tuples\n",
    "\n",
    "l = (1,4,\"hello\", \"Zep\", (\"Java\", \"Python\"))"
   ]
  },
  {
   "cell_type": "code",
   "execution_count": 57,
   "id": "4a5a7f8e",
   "metadata": {},
   "outputs": [
    {
     "data": {
      "text/plain": [
       "'Java'"
      ]
     },
     "execution_count": 57,
     "metadata": {},
     "output_type": "execute_result"
    }
   ],
   "source": [
    "l[4][0]"
   ]
  },
  {
   "cell_type": "code",
   "execution_count": null,
   "id": "33099951",
   "metadata": {},
   "outputs": [],
   "source": []
  }
 ],
 "metadata": {
  "kernelspec": {
   "display_name": "Python 3 (ipykernel)",
   "language": "python",
   "name": "python3"
  },
  "language_info": {
   "codemirror_mode": {
    "name": "ipython",
    "version": 3
   },
   "file_extension": ".py",
   "mimetype": "text/x-python",
   "name": "python",
   "nbconvert_exporter": "python",
   "pygments_lexer": "ipython3",
   "version": "3.9.7"
  }
 },
 "nbformat": 4,
 "nbformat_minor": 5
}
