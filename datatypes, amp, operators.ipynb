{
 "cells": [
  {
   "cell_type": "code",
   "execution_count": 1,
   "id": "303d7b67",
   "metadata": {},
   "outputs": [
    {
     "name": "stdout",
     "output_type": "stream",
     "text": [
      "mike\n"
     ]
    }
   ],
   "source": [
    "name = 'mike'\n",
    "print(name)"
   ]
  },
  {
   "cell_type": "code",
   "execution_count": 3,
   "id": "99d9ee4e",
   "metadata": {},
   "outputs": [
    {
     "name": "stdout",
     "output_type": "stream",
     "text": [
      "Enter Your name: Soumavo\n",
      "Welcome Soumavo\n"
     ]
    }
   ],
   "source": [
    "name = input(\"Enter Your name: \")\n",
    "print('Welcome', name)"
   ]
  },
  {
   "cell_type": "code",
   "execution_count": 1,
   "id": "e981926c",
   "metadata": {},
   "outputs": [
    {
     "name": "stdout",
     "output_type": "stream",
     "text": [
      "Enter you name: Sudipto\n",
      "Hi Sudipto\n"
     ]
    }
   ],
   "source": [
    "name = input(\"Enter you name: \")\n",
    "print(\"Hi\", name)"
   ]
  },
  {
   "cell_type": "code",
   "execution_count": 2,
   "id": "e30aed99",
   "metadata": {},
   "outputs": [],
   "source": [
    "a = True\n",
    "b = \"True\""
   ]
  },
  {
   "cell_type": "code",
   "execution_count": 3,
   "id": "4c70fcef",
   "metadata": {},
   "outputs": [
    {
     "name": "stdout",
     "output_type": "stream",
     "text": [
      "<class 'bool'>\n",
      "<class 'str'>\n"
     ]
    }
   ],
   "source": [
    "print(type(a))\n",
    "print(type(b))"
   ]
  },
  {
   "cell_type": "markdown",
   "id": "19e0420c",
   "metadata": {},
   "source": [
    "# TYPECASTING"
   ]
  },
  {
   "cell_type": "code",
   "execution_count": 5,
   "id": "13f7e187",
   "metadata": {},
   "outputs": [],
   "source": [
    "# accuracy: 91.2%"
   ]
  },
  {
   "cell_type": "code",
   "execution_count": 6,
   "id": "3a840445",
   "metadata": {},
   "outputs": [
    {
     "name": "stdout",
     "output_type": "stream",
     "text": [
      "91.2\n",
      "<class 'float'>\n"
     ]
    }
   ],
   "source": [
    "acc = 91.2\n",
    "print(acc)\n",
    "print(type (acc))"
   ]
  },
  {
   "cell_type": "code",
   "execution_count": 7,
   "id": "e4cc9192",
   "metadata": {},
   "outputs": [
    {
     "data": {
      "text/plain": [
       "91"
      ]
     },
     "execution_count": 7,
     "metadata": {},
     "output_type": "execute_result"
    }
   ],
   "source": [
    "int(acc)"
   ]
  },
  {
   "cell_type": "code",
   "execution_count": 8,
   "id": "7090180e",
   "metadata": {},
   "outputs": [
    {
     "data": {
      "text/plain": [
       "int"
      ]
     },
     "execution_count": 8,
     "metadata": {},
     "output_type": "execute_result"
    }
   ],
   "source": [
    "var = 2\n",
    "type(var)"
   ]
  },
  {
   "cell_type": "code",
   "execution_count": 14,
   "id": "0ac6ed5c",
   "metadata": {},
   "outputs": [
    {
     "data": {
      "text/plain": [
       "float"
      ]
     },
     "execution_count": 14,
     "metadata": {},
     "output_type": "execute_result"
    }
   ],
   "source": [
    "var1 = float(var)\n",
    "type(var1)"
   ]
  },
  {
   "cell_type": "code",
   "execution_count": 15,
   "id": "fca9a072",
   "metadata": {},
   "outputs": [
    {
     "data": {
      "text/plain": [
       "2"
      ]
     },
     "execution_count": 15,
     "metadata": {},
     "output_type": "execute_result"
    }
   ],
   "source": [
    "var"
   ]
  },
  {
   "cell_type": "code",
   "execution_count": 16,
   "id": "04bab15c",
   "metadata": {},
   "outputs": [
    {
     "data": {
      "text/plain": [
       "2.0"
      ]
     },
     "execution_count": 16,
     "metadata": {},
     "output_type": "execute_result"
    }
   ],
   "source": [
    "var1"
   ]
  },
  {
   "cell_type": "code",
   "execution_count": 17,
   "id": "0fdcff05",
   "metadata": {},
   "outputs": [
    {
     "name": "stdout",
     "output_type": "stream",
     "text": [
      "2.9\n"
     ]
    }
   ],
   "source": [
    "var = 2.9\n",
    "var_int= int(var)\n",
    "print(var)"
   ]
  },
  {
   "cell_type": "code",
   "execution_count": 18,
   "id": "793e9d4a",
   "metadata": {},
   "outputs": [
    {
     "name": "stdout",
     "output_type": "stream",
     "text": [
      "2\n"
     ]
    }
   ],
   "source": [
    "print(var_int)"
   ]
  },
  {
   "cell_type": "code",
   "execution_count": 19,
   "id": "06886d36",
   "metadata": {},
   "outputs": [],
   "source": [
    "var = 2\n",
    "var2 = str(var)"
   ]
  },
  {
   "cell_type": "code",
   "execution_count": 20,
   "id": "8d070dfc",
   "metadata": {},
   "outputs": [
    {
     "data": {
      "text/plain": [
       "'2'"
      ]
     },
     "execution_count": 20,
     "metadata": {},
     "output_type": "execute_result"
    }
   ],
   "source": [
    "var2"
   ]
  },
  {
   "cell_type": "code",
   "execution_count": 21,
   "id": "95206bc8",
   "metadata": {},
   "outputs": [
    {
     "data": {
      "text/plain": [
       "str"
      ]
     },
     "execution_count": 21,
     "metadata": {},
     "output_type": "execute_result"
    }
   ],
   "source": [
    "type(var2)"
   ]
  },
  {
   "cell_type": "code",
   "execution_count": 22,
   "id": "0c205751",
   "metadata": {},
   "outputs": [],
   "source": [
    "var3 = \"6.5\""
   ]
  },
  {
   "cell_type": "code",
   "execution_count": 23,
   "id": "fd956a1d",
   "metadata": {},
   "outputs": [
    {
     "name": "stdout",
     "output_type": "stream",
     "text": [
      "<class 'str'>\n"
     ]
    }
   ],
   "source": [
    "print(type(var3))"
   ]
  },
  {
   "cell_type": "code",
   "execution_count": 24,
   "id": "09fac33a",
   "metadata": {},
   "outputs": [
    {
     "data": {
      "text/plain": [
       "6.5"
      ]
     },
     "execution_count": 24,
     "metadata": {},
     "output_type": "execute_result"
    }
   ],
   "source": [
    "float(var3)"
   ]
  },
  {
   "cell_type": "code",
   "execution_count": 26,
   "id": "bcf9a316",
   "metadata": {},
   "outputs": [
    {
     "data": {
      "text/plain": [
       "6"
      ]
     },
     "execution_count": 26,
     "metadata": {},
     "output_type": "execute_result"
    }
   ],
   "source": [
    "int(float(var3))"
   ]
  },
  {
   "cell_type": "code",
   "execution_count": 27,
   "id": "515eb183",
   "metadata": {},
   "outputs": [],
   "source": [
    "string_var = \"HELLO\""
   ]
  },
  {
   "cell_type": "code",
   "execution_count": 29,
   "id": "42c64f6f",
   "metadata": {},
   "outputs": [
    {
     "name": "stdout",
     "output_type": "stream",
     "text": [
      "HELLO\n"
     ]
    }
   ],
   "source": [
    "print(string_var)"
   ]
  },
  {
   "cell_type": "code",
   "execution_count": 31,
   "id": "c8a565c4",
   "metadata": {},
   "outputs": [
    {
     "data": {
      "text/plain": [
       "'H'"
      ]
     },
     "execution_count": 31,
     "metadata": {},
     "output_type": "execute_result"
    }
   ],
   "source": [
    "string_var[0]"
   ]
  },
  {
   "cell_type": "code",
   "execution_count": 33,
   "id": "15accaca",
   "metadata": {},
   "outputs": [
    {
     "data": {
      "text/plain": [
       "'O'"
      ]
     },
     "execution_count": 33,
     "metadata": {},
     "output_type": "execute_result"
    }
   ],
   "source": [
    "string_var[-1]"
   ]
  },
  {
   "cell_type": "markdown",
   "id": "394466f1",
   "metadata": {},
   "source": [
    "# ops: add, sub, mul, divi, floor division, modulus, exponential"
   ]
  },
  {
   "cell_type": "code",
   "execution_count": 42,
   "id": "75619806",
   "metadata": {},
   "outputs": [],
   "source": [
    "a = 5\n",
    "b = 4"
   ]
  },
  {
   "cell_type": "code",
   "execution_count": 43,
   "id": "7d6b9949",
   "metadata": {},
   "outputs": [
    {
     "data": {
      "text/plain": [
       "9"
      ]
     },
     "execution_count": 43,
     "metadata": {},
     "output_type": "execute_result"
    }
   ],
   "source": [
    "a+ b"
   ]
  },
  {
   "cell_type": "code",
   "execution_count": 44,
   "id": "e6051388",
   "metadata": {},
   "outputs": [],
   "source": [
    "c = 7.0\n",
    "d = 9.0"
   ]
  },
  {
   "cell_type": "code",
   "execution_count": 45,
   "id": "f2a7433a",
   "metadata": {},
   "outputs": [
    {
     "data": {
      "text/plain": [
       "20"
      ]
     },
     "execution_count": 45,
     "metadata": {},
     "output_type": "execute_result"
    }
   ],
   "source": [
    "a * b"
   ]
  },
  {
   "cell_type": "code",
   "execution_count": 49,
   "id": "db90f0a9",
   "metadata": {},
   "outputs": [],
   "source": [
    "x = 49\n",
    "y = 8"
   ]
  },
  {
   "cell_type": "code",
   "execution_count": 50,
   "id": "cd1d7928",
   "metadata": {},
   "outputs": [
    {
     "data": {
      "text/plain": [
       "6"
      ]
     },
     "execution_count": 50,
     "metadata": {},
     "output_type": "execute_result"
    }
   ],
   "source": [
    "x // y"
   ]
  },
  {
   "cell_type": "code",
   "execution_count": null,
   "id": "5dac8700",
   "metadata": {},
   "outputs": [],
   "source": [
    "Floor (6.something)-----> 6\n",
    "CEILING (6.something)-----> 7"
   ]
  },
  {
   "cell_type": "code",
   "execution_count": 52,
   "id": "8ade8020",
   "metadata": {},
   "outputs": [
    {
     "data": {
      "text/plain": [
       "1"
      ]
     },
     "execution_count": 52,
     "metadata": {},
     "output_type": "execute_result"
    }
   ],
   "source": [
    "x%y # %= modulus/reminder"
   ]
  },
  {
   "cell_type": "code",
   "execution_count": 53,
   "id": "f2cd440f",
   "metadata": {},
   "outputs": [],
   "source": [
    "h= 6\n",
    "g = 3"
   ]
  },
  {
   "cell_type": "code",
   "execution_count": 54,
   "id": "a54ea918",
   "metadata": {},
   "outputs": [
    {
     "data": {
      "text/plain": [
       "216"
      ]
     },
     "execution_count": 54,
     "metadata": {},
     "output_type": "execute_result"
    }
   ],
   "source": [
    "h**g # it is like 6*6*6 = 216"
   ]
  },
  {
   "cell_type": "code",
   "execution_count": 55,
   "id": "a14cbf39",
   "metadata": {},
   "outputs": [
    {
     "name": "stdout",
     "output_type": "stream",
     "text": [
      "11.857142857142858\n"
     ]
    }
   ],
   "source": [
    "#BODMAS\n",
    "print((4*5)-9+6/7)"
   ]
  },
  {
   "cell_type": "code",
   "execution_count": 56,
   "id": "757bbf13",
   "metadata": {},
   "outputs": [
    {
     "data": {
      "text/plain": [
       "11.8"
      ]
     },
     "execution_count": 56,
     "metadata": {},
     "output_type": "execute_result"
    }
   ],
   "source": [
    "((4*5)-9+6/7)\n",
    "\n",
    "(20-9+6/7)\n",
    "(20-9+0.8)\n",
    "(11+0.8)\n",
    "(11.8)"
   ]
  },
  {
   "cell_type": "code",
   "execution_count": 58,
   "id": "5a93b5de",
   "metadata": {},
   "outputs": [
    {
     "name": "stdout",
     "output_type": "stream",
     "text": [
      "-2\n"
     ]
    }
   ],
   "source": [
    "#PEMDAS\n",
    "print(4% (1+9)**2 - 60 // (7+2))"
   ]
  },
  {
   "cell_type": "code",
   "execution_count": null,
   "id": "872fea40",
   "metadata": {},
   "outputs": [],
   "source": [
    "(4% (1+9)**2 - 60 // (7+2))\n",
    "(4% (10)**2 - 60 // 9)\n",
    "(4% 100 - 60 // 9)\n",
    "(4% 100 - 6)\n",
    "(4 - 6)\n",
    "(-2)"
   ]
  },
  {
   "cell_type": "code",
   "execution_count": 57,
   "id": "0d8f02b4",
   "metadata": {},
   "outputs": [
    {
     "data": {
      "text/plain": [
       "6"
      ]
     },
     "execution_count": 57,
     "metadata": {},
     "output_type": "execute_result"
    }
   ],
   "source": [
    "60 // 9"
   ]
  },
  {
   "cell_type": "code",
   "execution_count": null,
   "id": "43fa9f50",
   "metadata": {},
   "outputs": [],
   "source": []
  }
 ],
 "metadata": {
  "kernelspec": {
   "display_name": "Python 3 (ipykernel)",
   "language": "python",
   "name": "python3"
  },
  "language_info": {
   "codemirror_mode": {
    "name": "ipython",
    "version": 3
   },
   "file_extension": ".py",
   "mimetype": "text/x-python",
   "name": "python",
   "nbconvert_exporter": "python",
   "pygments_lexer": "ipython3",
   "version": "3.9.7"
  }
 },
 "nbformat": 4,
 "nbformat_minor": 5
}
